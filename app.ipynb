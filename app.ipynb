{
 "cells": [
  {
   "cell_type": "markdown",
   "metadata": {},
   "source": [
    "Student Name: Iqra Tahir,\n",
    "Roll No: PIAIC234522"
   ]
  },
  {
   "cell_type": "code",
   "execution_count": 50,
   "metadata": {},
   "outputs": [
    {
     "name": "stdout",
     "output_type": "stream",
     "text": [
      "Dear iqra! Let's explore your favorite numbers:\n",
      "The first number 1 is odd.\n",
      "The second number 2 is even.\n",
      "The third number 3 is odd.\n",
      "The square of 1 is 1.\n",
      "The square of 2 is 4.\n",
      "The square of 3 is 9.\n",
      "Superb! The sum of your numbers: 6\n",
      "The sum of your numbers is neither a prime nor an odd prime number. It's compound number\n"
     ]
    }
   ],
   "source": [
    "#Python Programming Assignment: Number Exploration Tool\n",
    "def number_exploration_tool():\n",
    "    name = input(\"Please enter your name: \")\n",
    "    numbers = []\n",
    "    \n",
    "    # Collecting 3 favorite numbers from the user\n",
    "    for i in range(3):\n",
    "        user_input = input(f\"Please enter your {i+1} favorite number: \")\n",
    "        numbers.append(int(user_input))\n",
    "    \n",
    "    print(f\"Dear {name}! Let's explore your favorite numbers:\")\n",
    "    \n",
    "    # Check if each number is even or odd\n",
    "    if numbers[0] % 2 == 0:\n",
    "        print(f\"The first number {numbers[0]} is even.\")\n",
    "    else:\n",
    "        print(f\"The first number {numbers[0]} is odd.\")\n",
    "        \n",
    "    if numbers[1] % 2 == 0:\n",
    "        print(f\"The second number {numbers[1]} is even.\")\n",
    "    else:\n",
    "        print(f\"The second number {numbers[1]} is odd.\")\n",
    "        \n",
    "    if numbers[2] % 2 == 0:\n",
    "        print(f\"The third number {numbers[2]} is even.\")\n",
    "    else:\n",
    "        print(f\"The third number {numbers[2]} is odd.\")\n",
    "    \n",
    "    # Calculate and print the square of each number\n",
    "    for num in numbers:\n",
    "        square = num ** 2\n",
    "        print(f\"The square of {num} is {square}.\")\n",
    "    \n",
    "    # Calculate the sum of the numbers\n",
    "    sum_numbers = sum(numbers)\n",
    "    print(f\"Superb! The sum of your numbers: {sum_numbers}\")\n",
    "    \n",
    "    # Check if the sum is a prime or odd prime number\n",
    "    if is_prime(sum_numbers):\n",
    "        print(f\"Wow! The sum of your numbers is a prime number.\")\n",
    "    elif is_odd_prime(sum_numbers):\n",
    "        print(f\"Wow! The sum of your numbers is an odd prime number.\")\n",
    "    else:\n",
    "        print(f\"The sum of your numbers is neither a prime nor an odd prime number. It's complex number\")\n",
    "\n",
    "def is_prime(number):\n",
    "    if number <= 1:\n",
    "        return False  # Numbers less than or equal to 1 are not prime\n",
    "    if number == 2:\n",
    "        return True  # 2 is the only even prime number\n",
    "    if number % 2 == 0:\n",
    "        return False  # Other even numbers are not prime\n",
    "    \n",
    "    # Check divisibility by odd numbers from 3 to sqrt(number)\n",
    "    for i in range(3, int(number**0.5) + 1, 2):\n",
    "        if number % i == 0:\n",
    "            return False\n",
    "    return True\n",
    "\n",
    "def is_odd_prime(number):\n",
    "    return number > 2 and number % 2 != 0 and is_prime(number)\n",
    "\n",
    "# Call the main function\n",
    "number_exploration_tool()\n"
   ]
  }
 ],
 "metadata": {
  "kernelspec": {
   "display_name": "Python 3",
   "language": "python",
   "name": "python3"
  },
  "language_info": {
   "codemirror_mode": {
    "name": "ipython",
    "version": 3
   },
   "file_extension": ".py",
   "mimetype": "text/x-python",
   "name": "python",
   "nbconvert_exporter": "python",
   "pygments_lexer": "ipython3",
   "version": "3.12.4"
  }
 },
 "nbformat": 4,
 "nbformat_minor": 2
}
